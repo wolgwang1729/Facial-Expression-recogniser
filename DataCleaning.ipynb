{
 "cells": [
  {
   "cell_type": "code",
   "execution_count": 2,
   "metadata": {},
   "outputs": [],
   "source": [
    "import numpy as np \n",
    "import pandas as pd\n",
    "\n",
    "df=pd.read_csv(\"icml_face_data.csv\")\n",
    "\n",
    "frames=[]\n",
    "for i in range(df.shape[0]):\n",
    "    nparr = np.array([int(j) for j in df[\" pixels\"][i].split()])\n",
    "    dfl=pd.DataFrame(nparr)\n",
    "    dfl=dfl.T\n",
    "    frames.append(dfl)\n",
    "\n",
    "result = pd.concat(frames)\n",
    "result.reset_index(inplace=True, drop=True)\n",
    "\n",
    "tempframes=[df,result]\n",
    "\n",
    "temp=pd.concat(tempframes,axis=1,ignore_index=True)\n",
    "temp.rename(columns = {0:'emotions'}, inplace = True) \n",
    "\n",
    "public=temp.loc[(temp[1] == 'Training') | (temp[1] == 'PublicTest')]\n",
    "private_test=temp.loc[(temp[1] == 'PrivateTest')]\n",
    "\n",
    "public=public.drop([1,2],axis=1)\n",
    "private_test=private_test.drop([1,2],axis=1)\n",
    "\n",
    "for i in range(3,2307):\n",
    "    public.rename(columns = {i:\"pixel\"+str(i-3)}, inplace = True) \n",
    "    private_test.rename(columns = {i:\"pixel\"+str(i-3)}, inplace = True) \n",
    "\n",
    "public.to_csv(\"Train.csv\",index=False)\n",
    "private_test.to_csv(\"Test.csv\",index=False)"
   ]
  },
  {
   "cell_type": "code",
   "execution_count": null,
   "metadata": {},
   "outputs": [],
   "source": []
  }
 ],
 "metadata": {
  "kernelspec": {
   "display_name": "Python 3",
   "language": "python",
   "name": "python3"
  },
  "language_info": {
   "codemirror_mode": {
    "name": "ipython",
    "version": 3
   },
   "file_extension": ".py",
   "mimetype": "text/x-python",
   "name": "python",
   "nbconvert_exporter": "python",
   "pygments_lexer": "ipython3",
   "version": "3.11.4"
  }
 },
 "nbformat": 4,
 "nbformat_minor": 2
}
